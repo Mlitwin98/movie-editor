{
 "cells": [
  {
   "cell_type": "code",
   "execution_count": 2,
   "metadata": {},
   "outputs": [],
   "source": [
    "from moviepy.editor import *"
   ]
  },
  {
   "cell_type": "code",
   "execution_count": 3,
   "metadata": {},
   "outputs": [
    {
     "name": "stdout",
     "output_type": "stream",
     "text": [
      "Moviepy - Building video test.mp4.\n",
      "MoviePy - Writing audio in testTEMP_MPY_wvf_snd.mp3\n"
     ]
    },
    {
     "name": "stderr",
     "output_type": "stream",
     "text": [
      "                                                                    \r"
     ]
    },
    {
     "name": "stdout",
     "output_type": "stream",
     "text": [
      "MoviePy - Done.\n",
      "Moviepy - Writing video test.mp4\n",
      "\n"
     ]
    },
    {
     "name": "stderr",
     "output_type": "stream",
     "text": [
      "                                                              \r"
     ]
    },
    {
     "name": "stdout",
     "output_type": "stream",
     "text": [
      "Moviepy - Done !\n",
      "Moviepy - video ready test.mp4\n"
     ]
    }
   ],
   "source": [
    "intro = ImageClip('clips/ending.jpg', duration=5)\n",
    "intro = intro.fadeout(0.5)\n",
    "\n",
    "\n",
    "clip1 = VideoFileClip('clips/Ere 0008.MP4', target_resolution=(1080, 1920)).subclip(5, 10)\n",
    "clip1 = clip1.fadein(0.5)\n",
    "clip1 = clip1.fadeout(0.5)\n",
    "\n",
    "clip2 = VideoFileClip('clips/Ere 0008.MP4', target_resolution=(1080, 1920)).subclip(15, 30)\n",
    "clip2 = clip2.fadein(0.5)\n",
    "fin = concatenate_videoclips([clip1, clip2, intro], method='compose')\n",
    "# , threads=4, logger=None\n",
    "fin.write_videofile('test.mp4')"
   ]
  },
  {
   "cell_type": "code",
   "execution_count": null,
   "metadata": {},
   "outputs": [],
   "source": []
  }
 ],
 "metadata": {
  "interpreter": {
   "hash": "4b9463b580c39724585ed8587e65d8cff0062d6715b2f1ff73887392770d3992"
  },
  "kernelspec": {
   "display_name": "Python 3.9.4 64-bit",
   "language": "python",
   "name": "python3"
  },
  "language_info": {
   "codemirror_mode": {
    "name": "ipython",
    "version": 3
   },
   "file_extension": ".py",
   "mimetype": "text/x-python",
   "name": "python",
   "nbconvert_exporter": "python",
   "pygments_lexer": "ipython3",
   "version": "3.9.4"
  },
  "orig_nbformat": 4
 },
 "nbformat": 4,
 "nbformat_minor": 2
}
