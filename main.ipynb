{
 "cells": [
  {
   "cell_type": "code",
   "execution_count": 1,
   "metadata": {},
   "outputs": [],
   "source": [
    "from moviepy.editor import *"
   ]
  },
  {
   "cell_type": "code",
   "execution_count": 3,
   "metadata": {},
   "outputs": [
    {
     "name": "stdout",
     "output_type": "stream",
     "text": [
      "1.0\n"
     ]
    }
   ],
   "source": [
    "#intro = ImageClip('clips/ending.jpg', duration=5)\n",
    "#intro = intro.fadeout(0.5)\n",
    "\n",
    "\n",
    "clip1 = VideoFileClip('clips/00002.MTS', target_resolution=(1080, 1920))\n",
    "ratio = clip1.audio.duration / clip1.duration\n",
    "print(ratio)\n",
    "\n",
    "#clip2 = VideoFileClip('clips/Ere 0008.MP4', target_resolution=(1080, 1920)).subclip(15, 30)\n",
    "#clip2 = clip2.fadein(0.5)\n",
    "#fin = concatenate_videoclips([clip1, clip2, intro], method='compose')\n",
    "# , threads=4, logger=None\n",
    "#fin.write_videofile('test.mp4')"
   ]
  },
  {
   "cell_type": "code",
   "execution_count": null,
   "metadata": {},
   "outputs": [],
   "source": []
  }
 ],
 "metadata": {
  "interpreter": {
   "hash": "4b9463b580c39724585ed8587e65d8cff0062d6715b2f1ff73887392770d3992"
  },
  "kernelspec": {
   "display_name": "Python 3.9.4 64-bit",
   "language": "python",
   "name": "python3"
  },
  "language_info": {
   "codemirror_mode": {
    "name": "ipython",
    "version": 3
   },
   "file_extension": ".py",
   "mimetype": "text/x-python",
   "name": "python",
   "nbconvert_exporter": "python",
   "pygments_lexer": "ipython3",
   "version": "3.9.4"
  },
  "orig_nbformat": 4
 },
 "nbformat": 4,
 "nbformat_minor": 2
}
